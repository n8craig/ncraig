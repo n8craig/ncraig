{
  "cells": [
    {
      "cell_type": "raw",
      "metadata": {},
      "source": [
        "---\n",
        "title: \"May Day Post\"\n",
        "date: 2022-05-01\n",
        "---"
      ],
      "id": "a1169316"
    },
    {
      "cell_type": "markdown",
      "metadata": {},
      "source": [
        "  A May Day post.\n",
        "\n",
        "![](https://i.imgur.com/hnH8iTe.png)\n",
        "\n",
        "Who was Thomas Mooney? \n",
        "\n",
        "\n",
        "```{html}\n",
        "<iframe src=\"https://archive.org/embed/ssfMOONEDT1\" width=\"640\" height=\"480\" frameborder=\"0\" webkitallowfullscreen=\"true\" mozallowfullscreen=\"true\" allowfullscreen></iframe>\n",
        "```"
      ],
      "id": "7f1dd2ab"
    }
  ],
  "metadata": {
    "kernelspec": {
      "display_name": "Python 3",
      "language": "python",
      "name": "python3"
    }
  },
  "nbformat": 4,
  "nbformat_minor": 5
}